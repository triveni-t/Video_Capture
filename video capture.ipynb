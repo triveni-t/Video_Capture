{
 "cells": [
  {
   "cell_type": "code",
   "execution_count": 1,
   "id": "572e6193",
   "metadata": {},
   "outputs": [],
   "source": [
    "import cv2\n",
    "import os"
   ]
  },
  {
   "cell_type": "code",
   "execution_count": 2,
   "id": "5ac792be",
   "metadata": {},
   "outputs": [],
   "source": [
    "def capture_frames(video_path, output_folder):\n",
    "    # Open the video file\n",
    "    cap = cv2.VideoCapture(video_path)\n",
    "    if not cap.isOpened():\n",
    "        print(\"Error: Couldn't open the video file.\")\n",
    "        return\n",
    "    \n",
    "    # Create output folder if it doesn't exist\n",
    "    if not os.path.exists(output_folder):\n",
    "        os.makedirs(output_folder)\n",
    "    \n",
    "    # Get total number of frames and frame rate\n",
    "    total_frames = int(cap.get(cv2.CAP_PROP_FRAME_COUNT))\n",
    "    frame_rate = cap.get(cv2.CAP_PROP_FPS)\n",
    "    \n",
    "    # Calculate total duration of the video\n",
    "    total_duration_sec = total_frames / frame_rate\n",
    "    \n",
    "    # Calculate timestamp interval for capturing frames every 1 minute\n",
    "    interval_timestamp = 60\n",
    "    \n",
    "    # Set initial timestamp to 1 minute\n",
    "    timestamp = interval_timestamp\n",
    "    \n",
    "    # Iterate over each minute and capture a frame\n",
    "    while timestamp <= total_duration_sec:\n",
    "        # Seek to the nearest frame with the desired timestamp\n",
    "        cap.set(cv2.CAP_PROP_POS_MSEC, timestamp * 1000)  # Convert seconds to milliseconds\n",
    "        ret, frame = cap.read()\n",
    "        \n",
    "        if not ret:\n",
    "            print(\"Error: Couldn't read frame.\")\n",
    "            break\n",
    "        \n",
    "        # Save frame\n",
    "        frame_name = os.path.join(output_folder, f\"frame_{int(timestamp):05d}.jpg\")\n",
    "        cv2.imwrite(frame_name, frame)\n",
    "        print(f\"Saved frame at {frame_name}\")\n",
    "        \n",
    "        # Move to the next minute\n",
    "        timestamp += interval_timestamp\n",
    "    \n",
    "    # Release the video capture object\n",
    "    cap.release()"
   ]
  },
  {
   "cell_type": "code",
   "execution_count": 3,
   "id": "e5876ff7",
   "metadata": {},
   "outputs": [
    {
     "name": "stdout",
     "output_type": "stream",
     "text": [
      "Saved frame at C:/Users/Triveni/Documents/internship shodhaka/video/output\\frame_00060.jpg\n",
      "Saved frame at C:/Users/Triveni/Documents/internship shodhaka/video/output\\frame_00120.jpg\n"
     ]
    }
   ],
   "source": [
    "# Example usage\n",
    "video_path = \"C:/Users/Triveni/Documents/internship shodhaka/video/vv.mp4\"\n",
    "output_folder = \"C:/Users/Triveni/Documents/internship shodhaka/video/output\"\n",
    "capture_frames(video_path, output_folder)\n"
   ]
  },
  {
   "cell_type": "code",
   "execution_count": null,
   "id": "df75f75f",
   "metadata": {},
   "outputs": [],
   "source": []
  }
 ],
 "metadata": {
  "kernelspec": {
   "display_name": "Python 3 (ipykernel)",
   "language": "python",
   "name": "python3"
  },
  "language_info": {
   "codemirror_mode": {
    "name": "ipython",
    "version": 3
   },
   "file_extension": ".py",
   "mimetype": "text/x-python",
   "name": "python",
   "nbconvert_exporter": "python",
   "pygments_lexer": "ipython3",
   "version": "3.9.12"
  }
 },
 "nbformat": 4,
 "nbformat_minor": 5
}
